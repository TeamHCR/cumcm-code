{
 "cells": [
  {
   "cell_type": "code",
   "execution_count": 6,
   "id": "87df5554",
   "metadata": {},
   "outputs": [],
   "source": [
    "import os\n",
    "import sys\n",
    "import json\n",
    "import argparse\n",
    "from typing import *\n",
    "from tqdm import *\n",
    "import numpy as np\n",
    "import matplotlib.pyplot as plt\n",
    "\n",
    "sys.path.append(\"..\")\n",
    "try:\n",
    "  from ..utils.logger import logger\n",
    "  from ..utils.utils import *\n",
    "except ImportError:\n",
    "  from utils.logger import logger\n",
    "  from utils.utils import *"
   ]
  },
  {
   "cell_type": "code",
   "execution_count": 5,
   "id": "c9c8b2a5",
   "metadata": {},
   "outputs": [
    {
     "ename": "ValueError",
     "evalue": "dsolve() and classify_ode() only work with functions of one variable, not 9800.0*pi*x_1(t) + 80000*x_1(t) - 80000*x_2(t) - 6250*cos(1.0045*t)*Derivative(x_2(t), (t, 2)) + 10656.3616*Derivative(x_1(t), t) + 6201.535*Derivative(x_1(t), (t, 2)) - 10000*Derivative(x_2(t), t)",
     "output_type": "error",
     "traceback": [
      "\u001b[0;31m---------------------------------------------------------------------------\u001b[0m",
      "\u001b[0;31mValueError\u001b[0m                                Traceback (most recent call last)",
      "\u001b[1;32m/home/chiro/cumcm/cumcm-code/code.ipynb Cell 2\u001b[0m in \u001b[0;36m<cell line: 36>\u001b[0;34m()\u001b[0m\n\u001b[1;32m     <a href='vscode-notebook-cell:/home/chiro/cumcm/cumcm-code/code.ipynb#X12sZmlsZQ%3D%3D?line=32'>33</a>\u001b[0m f1 \u001b[39m=\u001b[39m \u001b[39m80000\u001b[39m \u001b[39m*\u001b[39m (x1(t) \u001b[39m-\u001b[39m x2(t)) \u001b[39m+\u001b[39m \u001b[39m10000\u001b[39m \u001b[39m*\u001b[39m (x1(t)\u001b[39m.\u001b[39mdiff(t) \u001b[39m-\u001b[39m x2(t)\u001b[39m.\u001b[39mdiff(t)) \u001b[39m-\u001b[39m x2(t)\u001b[39m.\u001b[39mdiff(t, \u001b[39m2\u001b[39m) \u001b[39m*\u001b[39m \u001b[39m2433\u001b[39m\n\u001b[1;32m     <a href='vscode-notebook-cell:/home/chiro/cumcm/cumcm-code/code.ipynb#X12sZmlsZQ%3D%3D?line=33'>34</a>\u001b[0m f2 \u001b[39m=\u001b[39m \u001b[39m80000\u001b[39m \u001b[39m*\u001b[39m (x1(t) \u001b[39m-\u001b[39m x2(t)) \u001b[39m+\u001b[39m \u001b[39m10000\u001b[39m \u001b[39m*\u001b[39m (x1(t)\u001b[39m.\u001b[39mdiff(t) \u001b[39m-\u001b[39m x2(t)\u001b[39m.\u001b[39mdiff(t)) \u001b[39m-\u001b[39m \u001b[39m6250\u001b[39m \u001b[39m*\u001b[39m sympy\u001b[39m.\u001b[39mcos(\u001b[39m1.0045\u001b[39m \u001b[39m*\u001b[39m t) \u001b[39m*\u001b[39m x2(t)\u001b[39m.\u001b[39mdiff(t, \u001b[39m2\u001b[39m) \u001b[39m+\u001b[39m \\\n\u001b[1;32m     <a href='vscode-notebook-cell:/home/chiro/cumcm/cumcm-code/code.ipynb#X12sZmlsZQ%3D%3D?line=34'>35</a>\u001b[0m         \u001b[39m1e3\u001b[39m \u001b[39m*\u001b[39m \u001b[39m9.8\u001b[39m \u001b[39m*\u001b[39m sympy\u001b[39m.\u001b[39mpi \u001b[39m*\u001b[39m x1(t) \u001b[39m+\u001b[39m \u001b[39m656.3616\u001b[39m \u001b[39m*\u001b[39m x1(t)\u001b[39m.\u001b[39mdiff(t) \u001b[39m+\u001b[39m \u001b[39m1335.535\u001b[39m \u001b[39m*\u001b[39m x1(t)\u001b[39m.\u001b[39mdiff(t, \u001b[39m2\u001b[39m) \u001b[39m+\u001b[39m \u001b[39m4866\u001b[39m \u001b[39m*\u001b[39m x1(t)\u001b[39m.\u001b[39mdiff(t, \u001b[39m2\u001b[39m)\n\u001b[0;32m---> <a href='vscode-notebook-cell:/home/chiro/cumcm/cumcm-code/code.ipynb#X12sZmlsZQ%3D%3D?line=35'>36</a>\u001b[0m sol \u001b[39m=\u001b[39m sympy\u001b[39m.\u001b[39;49mdsolve(f1, f2)\n\u001b[1;32m     <a href='vscode-notebook-cell:/home/chiro/cumcm/cumcm-code/code.ipynb#X12sZmlsZQ%3D%3D?line=36'>37</a>\u001b[0m \u001b[39m## use diff() and dsolve to get the general solution\u001b[39;00m\n\u001b[1;32m     <a href='vscode-notebook-cell:/home/chiro/cumcm/cumcm-code/code.ipynb#X12sZmlsZQ%3D%3D?line=37'>38</a>\u001b[0m ics \u001b[39m=\u001b[39m {x1(\u001b[39m0\u001b[39m): \u001b[39m0\u001b[39m, x1(t)\u001b[39m.\u001b[39mdiff(t)\u001b[39m.\u001b[39msubs(t, \u001b[39m0\u001b[39m): \u001b[39m0\u001b[39m, x2(\u001b[39m0\u001b[39m): \u001b[39m0\u001b[39m, x2(t)\u001b[39m.\u001b[39mdiff(t)\u001b[39m.\u001b[39msubs(t, \u001b[39m0\u001b[39m): \u001b[39m0\u001b[39m}\n",
      "File \u001b[0;32m~/.conda/envs/cumcm/lib/python3.10/site-packages/sympy/solvers/ode/ode.py:605\u001b[0m, in \u001b[0;36mdsolve\u001b[0;34m(eq, func, hint, simplify, ics, xi, eta, x0, n, **kwargs)\u001b[0m\n\u001b[1;32m    602\u001b[0m given_hint \u001b[39m=\u001b[39m hint  \u001b[39m# hint given by the user\u001b[39;00m\n\u001b[1;32m    604\u001b[0m \u001b[39m# See the docstring of _desolve for more details.\u001b[39;00m\n\u001b[0;32m--> 605\u001b[0m hints \u001b[39m=\u001b[39m _desolve(eq, func\u001b[39m=\u001b[39;49mfunc,\n\u001b[1;32m    606\u001b[0m     hint\u001b[39m=\u001b[39;49mhint, simplify\u001b[39m=\u001b[39;49m\u001b[39mTrue\u001b[39;49;00m, xi\u001b[39m=\u001b[39;49mxi, eta\u001b[39m=\u001b[39;49meta, \u001b[39mtype\u001b[39;49m\u001b[39m=\u001b[39;49m\u001b[39m'\u001b[39;49m\u001b[39mode\u001b[39;49m\u001b[39m'\u001b[39;49m, ics\u001b[39m=\u001b[39;49mics,\n\u001b[1;32m    607\u001b[0m     x0\u001b[39m=\u001b[39;49mx0, n\u001b[39m=\u001b[39;49mn, \u001b[39m*\u001b[39;49m\u001b[39m*\u001b[39;49mkwargs)\n\u001b[1;32m    608\u001b[0m eq \u001b[39m=\u001b[39m hints\u001b[39m.\u001b[39mpop(\u001b[39m'\u001b[39m\u001b[39meq\u001b[39m\u001b[39m'\u001b[39m, eq)\n\u001b[1;32m    609\u001b[0m all_ \u001b[39m=\u001b[39m hints\u001b[39m.\u001b[39mpop(\u001b[39m'\u001b[39m\u001b[39mall\u001b[39m\u001b[39m'\u001b[39m, \u001b[39mFalse\u001b[39;00m)\n",
      "File \u001b[0;32m~/.conda/envs/cumcm/lib/python3.10/site-packages/sympy/solvers/deutils.py:209\u001b[0m, in \u001b[0;36m_desolve\u001b[0;34m(eq, func, hint, ics, simplify, prep, **kwargs)\u001b[0m\n\u001b[1;32m    205\u001b[0m \u001b[39m# Magic that should only be used internally.  Prevents classify_ode from\u001b[39;00m\n\u001b[1;32m    206\u001b[0m \u001b[39m# being called more than it needs to be by passing its results through\u001b[39;00m\n\u001b[1;32m    207\u001b[0m \u001b[39m# recursive calls.\u001b[39;00m\n\u001b[1;32m    208\u001b[0m \u001b[39mif\u001b[39;00m kwargs\u001b[39m.\u001b[39mget(\u001b[39m'\u001b[39m\u001b[39mclassify\u001b[39m\u001b[39m'\u001b[39m, \u001b[39mTrue\u001b[39;00m):\n\u001b[0;32m--> 209\u001b[0m     hints \u001b[39m=\u001b[39m classifier(eq, func, \u001b[39mdict\u001b[39;49m\u001b[39m=\u001b[39;49m\u001b[39mTrue\u001b[39;49;00m, ics\u001b[39m=\u001b[39;49mics, xi\u001b[39m=\u001b[39;49mxi, eta\u001b[39m=\u001b[39;49meta,\n\u001b[1;32m    210\u001b[0m     n\u001b[39m=\u001b[39;49mterms, x0\u001b[39m=\u001b[39;49mx0, hint\u001b[39m=\u001b[39;49mhint, prep\u001b[39m=\u001b[39;49mprep)\n\u001b[1;32m    212\u001b[0m \u001b[39melse\u001b[39;00m:\n\u001b[1;32m    213\u001b[0m     \u001b[39m# Here is what all this means:\u001b[39;00m\n\u001b[1;32m    214\u001b[0m     \u001b[39m#\u001b[39;00m\n\u001b[0;32m   (...)\u001b[0m\n\u001b[1;32m    223\u001b[0m     \u001b[39m#          hint.\u001b[39;00m\n\u001b[1;32m    224\u001b[0m     \u001b[39m# order:   The order of the DE, as determined by ode_order().\u001b[39;00m\n\u001b[1;32m    225\u001b[0m     hints \u001b[39m=\u001b[39m kwargs\u001b[39m.\u001b[39mget(\u001b[39m'\u001b[39m\u001b[39mhint\u001b[39m\u001b[39m'\u001b[39m,\n\u001b[1;32m    226\u001b[0m                        {\u001b[39m'\u001b[39m\u001b[39mdefault\u001b[39m\u001b[39m'\u001b[39m: hint,\n\u001b[1;32m    227\u001b[0m                         hint: kwargs[\u001b[39m'\u001b[39m\u001b[39mmatch\u001b[39m\u001b[39m'\u001b[39m],\n\u001b[1;32m    228\u001b[0m                         \u001b[39m'\u001b[39m\u001b[39morder\u001b[39m\u001b[39m'\u001b[39m: kwargs[\u001b[39m'\u001b[39m\u001b[39morder\u001b[39m\u001b[39m'\u001b[39m]})\n",
      "File \u001b[0;32m~/.conda/envs/cumcm/lib/python3.10/site-packages/sympy/solvers/ode/ode.py:942\u001b[0m, in \u001b[0;36mclassify_ode\u001b[0;34m(eq, func, dict, ics, prep, xi, eta, n, **kwargs)\u001b[0m\n\u001b[1;32m    939\u001b[0m ics \u001b[39m=\u001b[39m sympify(ics)\n\u001b[1;32m    941\u001b[0m \u001b[39mif\u001b[39;00m func \u001b[39mand\u001b[39;00m \u001b[39mlen\u001b[39m(func\u001b[39m.\u001b[39margs) \u001b[39m!=\u001b[39m \u001b[39m1\u001b[39m:\n\u001b[0;32m--> 942\u001b[0m     \u001b[39mraise\u001b[39;00m \u001b[39mValueError\u001b[39;00m(\u001b[39m\"\u001b[39m\u001b[39mdsolve() and classify_ode() only \u001b[39m\u001b[39m\"\u001b[39m\n\u001b[1;32m    943\u001b[0m     \u001b[39m\"\u001b[39m\u001b[39mwork with functions of one variable, not \u001b[39m\u001b[39m%s\u001b[39;00m\u001b[39m\"\u001b[39m \u001b[39m%\u001b[39m func)\n\u001b[1;32m    945\u001b[0m \u001b[39mif\u001b[39;00m \u001b[39misinstance\u001b[39m(eq, Equality):\n\u001b[1;32m    946\u001b[0m     eq \u001b[39m=\u001b[39m eq\u001b[39m.\u001b[39mlhs \u001b[39m-\u001b[39m eq\u001b[39m.\u001b[39mrhs\n",
      "\u001b[0;31mValueError\u001b[0m: dsolve() and classify_ode() only work with functions of one variable, not 9800.0*pi*x_1(t) + 80000*x_1(t) - 80000*x_2(t) - 6250*cos(1.0045*t)*Derivative(x_2(t), (t, 2)) + 10656.3616*Derivative(x_1(t), t) + 6201.535*Derivative(x_1(t), (t, 2)) - 10000*Derivative(x_2(t), t)"
     ]
    }
   ],
   "source": [
    "import numpy as np\n",
    "from scipy import integrate\n",
    "#import matplotlib.pyplot as plt\n",
    "import sympy\n",
    "\n",
    "def apply_ics(sol, ics, x, known_params):\n",
    "\tfree_params = sol.free_symbols - set(known_params)\n",
    "    ## free parameters like C1,C2, that needed to be figured out with ics and boundary conditions\n",
    "\teqs = [(sol.lhs.diff(x, n) - sol.rhs.diff(x, n)).subs(x, 0).subs(ics) for n in range(len(ics))]\n",
    "    ## form equations with general solution(sol), by substituting the x with 0 and [y(0),dy/dx(x=0)...] with ics.\n",
    "\tsol_params = sympy.solve(eqs, free_params)\n",
    "    ## solve the algebraic equation set  to get the free parameters expression\n",
    "    ## return the solution after substituting the free parameters\n",
    "\n",
    "\treturn sol.subs(sol_params)\n",
    "\n",
    "sympy.init_printing()\n",
    "## initialize the print environment\n",
    "t = sympy.Symbol(\"t\")\n",
    "## symbolize the parameters and they can only be positive\n",
    "x1 = sympy.Function('x_1')\n",
    "x2 = sympy.Function('x_2')\n",
    "## set x to be the differential function, not the variable\n",
    "f1 = 80000 * (x1(t) - x2(t)) + 10000 * (x1(t).diff(t) - x2(t).diff(t)) - x2(t).diff(t, 2) * 2433\n",
    "f2 = 80000 * (x1(t) - x2(t)) + 10000 * (x1(t).diff(t) - x2(t).diff(t)) - 6250 * sympy.cos(1.0045 * t) * x2(t).diff(t, 2) + \\\n",
    "        1e3 * 9.8 * sympy.pi * x1(t) + 656.3616 * x1(t).diff(t) + 1335.535 * x1(t).diff(t, 2) + 4866 * x1(t).diff(t, 2)\n",
    "sol = sympy.dsolve(f1, f2)\n",
    "## use diff() and dsolve to get the general solution\n",
    "ics = {x1(0): 0, x1(t).diff(t).subs(t, 0): 0, x2(0): 0, x2(t).diff(t).subs(t, 0): 0}\n",
    "## apply dict to the initial conditions\n",
    "t_sol = apply_ics(solsol, ics, t, [])\n",
    "## get the solution with ics by calling function apply_ics.\n",
    "sympy.pprint(t_sol)\n",
    "print(t_sol)\n",
    "## pretty print\n",
    "## solution is as follows"
   ]
  }
 ],
 "metadata": {
  "kernelspec": {
   "display_name": "Python 3.10.4 ('cumcm')",
   "language": "python",
   "name": "python3"
  },
  "language_info": {
   "codemirror_mode": {
    "name": "ipython",
    "version": 3
   },
   "file_extension": ".py",
   "mimetype": "text/x-python",
   "name": "python",
   "nbconvert_exporter": "python",
   "pygments_lexer": "ipython3",
   "version": "3.10.4"
  },
  "vscode": {
   "interpreter": {
    "hash": "893f89b1dee575e90373b61c46f47296da0d83a81b625ab63c0456ec90ab7ef2"
   }
  }
 },
 "nbformat": 4,
 "nbformat_minor": 5
}
