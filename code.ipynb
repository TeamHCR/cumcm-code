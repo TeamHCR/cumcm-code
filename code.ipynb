{
 "cells": [
  {
   "cell_type": "code",
   "execution_count": null,
   "id": "87df5554",
   "metadata": {},
   "outputs": [],
   "source": [
    "import os\n",
    "import sys\n",
    "import json\n",
    "import argparse\n",
    "from typing import *\n",
    "from tqdm import *\n",
    "import numpy as np\n",
    "import matplotlib.pyplot as plt\n",
    "\n",
    "sys.path.append(\"..\")\n",
    "try:\n",
    "  from ..utils.logger import logger\n",
    "  from ..utils.utils import *\n",
    "except ImportError:\n",
    "  from utils.logger import logger\n",
    "  from utils.utils import *"
   ]
  },
  {
   "cell_type": "code",
   "execution_count": null,
   "id": "c9c8b2a5",
   "metadata": {},
   "outputs": [],
   "source": [
    "import numpy as np\n",
    "from scipy import integrate\n",
    "#import matplotlib.pyplot as plt\n",
    "import sympy\n",
    "\n",
    "def apply_ics(sol, ics, x, known_params):\n",
    "\tfree_params = sol.free_symbols - set(known_params)\n",
    "    ## free parameters like C1,C2, that needed to be figured out with ics and boundary conditions\n",
    "\teqs = [(sol.lhs.diff(x, n) - sol.rhs.diff(x, n)).subs(x, 0).subs(ics) for n in range(len(ics))]\n",
    "    ## form equations with general solution(sol), by substituting the x with 0 and [y(0),dy/dx(x=0)...] with ics.\n",
    "\tsol_params = sympy.solve(eqs, free_params)\n",
    "    ## solve the algebraic equation set  to get the free parameters expression\n",
    "    ## return the solution after substituting the free parameters\n",
    "\n",
    "\treturn sol.subs(sol_params)\n",
    "\n",
    "sympy.init_printing()\n",
    "## initialize the print environment\n",
    "t = sympy.Symbol(\"t\")\n",
    "## symbolize the parameters and they can only be positive\n",
    "x1 = sympy.Function('x_1')\n",
    "x2 = sympy.Function('x_2')\n",
    "## set x to be the differential function, not the variable\n",
    "f1 = 80000 * (x1(t) - x2(t)) + 10000 * (x1(t).diff(t) - x2(t).diff(t)) - x2(t).diff(t, 2) * 2433\n",
    "f2 = 80000 * (x1(t) - x2(t)) + 10000 * (x1(t).diff(t) - x2(t).diff(t)) - 6250 * sympy.cos(1.0045 * t) * x2(t).diff(t, 2) + \\\n",
    "        1e3 * 9.8 * sympy.pi * x1(t) + 656.3616 * x1(t).diff(t) + 1335.535 * x1(t).diff(t, 2) + 4866 * x1(t).diff(t, 2)\n",
    "sol = sympy.dsolve(f1, f2)\n",
    "## use diff() and dsolve to get the general solution\n",
    "ics = {x1(0): 0, x1(t).diff(t).subs(t, 0): 0, x2(0): 0, x2(t).diff(t).subs(t, 0): 0}\n",
    "## apply dict to the initial conditions\n",
    "t_sol = apply_ics(solsol, ics, t, [])\n",
    "## get the solution with ics by calling function apply_ics.\n",
    "sympy.pprint(t_sol)\n",
    "print(t_sol)\n",
    "## pretty print\n",
    "## solution is as follows"
   ]
  },
  {
   "cell_type": "code",
   "execution_count": 1,
   "id": "8fd01624",
   "metadata": {},
   "outputs": [],
   "source": [
    "from wolframclient.evaluation import WolframLanguageSession\n",
    "from wolframclient.language import wl, wlexpr\n",
    "session = WolframLanguageSession()"
   ]
  },
  {
   "cell_type": "code",
   "execution_count": null,
   "id": "8a5b7489",
   "metadata": {},
   "outputs": [],
   "source": [
    "session.evaluate(\"\"\"\n",
    "M = 4866; m = 2433; k2 = 80000; c2 = 10000; omega = 2.2143; k1 = 1025 * 9.8 * Pi;\n",
    "f = 4890; c1 = 167.8395; m0 = 1165.992;\n",
    "start = 510; stop = 520; dim = 1;\n",
    "P2[cm2_] := Sum[cm2 * ((x1'[i] - x2'[i])^2) * dim, {i, start, stop, dim}] /. \n",
    "  NDSolve[{m*x2''[t]==k2*(x1[t]-x2[t])+cm2*(x1'[t]-x2'[t]), \n",
    "    f*Cos[omega * t]==k2*(x1[t]-x2[t])+cm2*(x1'[t]-x2'[t])+k1*x1[t]+c1*x1'[t]+m0*x1''[t]+M*x1''[t], \n",
    "    x1[0]==x2[0]==x1'[0]==x2'[0]==0},\n",
    "  {x1, x2}, {t, start, stop}]\"\"\")"
   ]
  },
  {
   "cell_type": "code",
   "execution_count": 3,
   "id": "3a4bf544",
   "metadata": {},
   "outputs": [
    {
     "name": "stdout",
     "output_type": "stream",
     "text": [
      "0.1465828107559073\n",
      "<class 'float'>\n"
     ]
    }
   ],
   "source": [
    "def PP2(x, d):\n",
    "  return session.evaluate(wl.Evaluate(wlexpr(f'First[P2[{x}]-P2[{x-d}]]')))"
   ]
  },
  {
   "cell_type": "code",
   "execution_count": 9,
   "id": "273c8c25",
   "metadata": {},
   "outputs": [
    {
     "name": "stdout",
     "output_type": "stream",
     "text": [
      "find(0, 100000, 1)\n",
      "find(0, 50000.0, 1)\n",
      "find(25000.0, 50000.0, 1)\n",
      "find(25000.0, 37500.0, 1)\n",
      "find(31250.0, 37500.0, 1)\n",
      "find(34375.0, 37500.0, 1)\n",
      "find(34375.0, 35937.5, 1)\n",
      "find(34375.0, 35156.25, 1)\n",
      "find(34375.0, 34765.625, 1)\n",
      "find(34375.0, 34570.3125, 1)\n",
      "find(34375.0, 34472.65625, 1)\n",
      "find(34375.0, 34423.828125, 1)\n",
      "find(34399.4140625, 34423.828125, 1)\n",
      "find(34411.62109375, 34423.828125, 1)\n",
      "find(34417.724609375, 34423.828125, 1)\n",
      "find(34420.7763671875, 34423.828125, 1)\n",
      "find(34422.30224609375, 34423.828125, 1)\n",
      "find(34422.30224609375, 34423.065185546875, 1)\n",
      "find(34422.68371582031, 34423.065185546875, 1)\n"
     ]
    },
    {
     "data": {
      "text/plain": [
       "[34422.874450683594, 8.194906013159198e-05]"
      ]
     },
     "execution_count": 9,
     "metadata": {},
     "output_type": "execute_result"
    }
   ],
   "source": [
    "def find(start, stop, d, f, esp=1e-4):\n",
    "  print(f\"find({start}, {stop}, {d})\")\n",
    "  m = (start + stop) / 2\n",
    "  v = f(m, d)\n",
    "  if abs(v) < esp:\n",
    "    return [m, v]\n",
    "  if v < 0:\n",
    "    return find(start, m, d, f)\n",
    "  return find(m, stop, d, f)\n",
    "\n",
    "find(0, 100000, 1, PP2)"
   ]
  },
  {
   "cell_type": "code",
   "execution_count": null,
   "id": "000fe497",
   "metadata": {},
   "outputs": [],
   "source": []
  }
 ],
 "metadata": {
  "kernelspec": {
   "display_name": "Python 3.10.4 ('cumcm')",
   "language": "python",
   "name": "python3"
  },
  "language_info": {
   "codemirror_mode": {
    "name": "ipython",
    "version": 3
   },
   "file_extension": ".py",
   "mimetype": "text/x-python",
   "name": "python",
   "nbconvert_exporter": "python",
   "pygments_lexer": "ipython3",
   "version": "3.10.4"
  },
  "vscode": {
   "interpreter": {
    "hash": "893f89b1dee575e90373b61c46f47296da0d83a81b625ab63c0456ec90ab7ef2"
   }
  }
 },
 "nbformat": 4,
 "nbformat_minor": 5
}
